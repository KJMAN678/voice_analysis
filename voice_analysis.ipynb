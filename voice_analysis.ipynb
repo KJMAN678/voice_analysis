{
  "nbformat": 4,
  "nbformat_minor": 2,
  "metadata": {
    "colab": {
      "name": "voice_analysis.ipynb",
      "provenance": [],
      "collapsed_sections": []
    },
    "kernelspec": {
      "name": "python3",
      "display_name": "Python 3"
    },
    "language_info": {
      "name": "python"
    }
  },
  "cells": [
    {
      "cell_type": "code",
      "execution_count": null,
      "source": [
        "import os\r\n",
        "import speech_recognition\r\n",
        "import pydub\r\n",
        "import glob"
      ],
      "outputs": [],
      "metadata": {
        "id": "aG03H8uL041h"
      }
    },
    {
      "cell_type": "code",
      "execution_count": null,
      "source": [
        "path = \"\" # 適宜変更\r\n",
        "\r\n",
        "os.chdir(path + \"/talk/\")"
      ],
      "outputs": [],
      "metadata": {
        "id": "BqkMfo9MTD8j"
      }
    },
    {
      "cell_type": "code",
      "execution_count": null,
      "source": [
        "# wav データ保存用のフォルダがない場合は作成\r\n",
        "if os.path.exists(\"wav\"):\r\n",
        "    pass\r\n",
        "else:\r\n",
        "    !mkdir wav"
      ],
      "outputs": [],
      "metadata": {
        "id": "_-TP0ZClcl6K"
      }
    },
    {
      "cell_type": "code",
      "execution_count": null,
      "source": [
        "# wav フォルダに wav ファイルがない時だけ実行\r\n",
        "if len(glob.glob('wav/*.wav')) == 0:\r\n",
        "\r\n",
        "    # mp3 ファイル名の取得\r\n",
        "    mp3_files = glob.glob('cv-corpus-7.0-2021-07-21/ja/clips/*.mp3')\r\n",
        "\r\n",
        "    # mp3 への変換、ただし50ファイルのみ\r\n",
        "    for mp3_file in mp3_files[:50]:\r\n",
        "        sound = pydub.AudioSegment.from_mp3(mp3_file)\r\n",
        "        sound.export(\"wav/\" + mp3_file.split(\"/\")[-1][:-3] + \"wav\", format=\"wav\")"
      ],
      "outputs": [],
      "metadata": {
        "id": "TfL1MXCTUDXP"
      }
    },
    {
      "cell_type": "code",
      "execution_count": null,
      "source": [
        "r = speech_recognition.Recognizer()"
      ],
      "outputs": [],
      "metadata": {
        "id": "CwupwC0j7OYB"
      }
    },
    {
      "cell_type": "code",
      "execution_count": null,
      "source": [
        "# wav ファイル名の取得\n",
        "wav_files = glob.glob(path + 'wav/*.wav')\n",
        "\n",
        "# 音声解析、ただし10ファイルのみ\n",
        "for wav_file in wav_files[:10]:\n",
        "    print(wav_file, end=\" -> \")\n",
        "    with speech_recognition.AudioFile(wav_file) as source:\n",
        "        audio = r.record(source)\n",
        "    print(r.recognize_google(audio, language='ja-JP'))"
      ],
      "outputs": [
        {
          "output_type": "stream",
          "name": "stdout",
          "text": [
            "/content/drive/MyDrive/talk/wav/common_voice_ja_20836343.wav -> 彼女は部屋に入ってベッドに横になった\n",
            "/content/drive/MyDrive/talk/wav/common_voice_ja_20836344.wav -> 彼女は部屋に入ってベッドに横になった\n",
            "/content/drive/MyDrive/talk/wav/common_voice_ja_20836341.wav -> この靴は古いです\n",
            "/content/drive/MyDrive/talk/wav/common_voice_ja_20836336.wav -> 彼女は目を逸らした\n",
            "/content/drive/MyDrive/talk/wav/common_voice_ja_20836337.wav -> この靴は古いです\n",
            "/content/drive/MyDrive/talk/wav/common_voice_ja_20836342.wav -> 彼女は部屋に入ってベッドに横になった\n",
            "/content/drive/MyDrive/talk/wav/common_voice_ja_20836340.wav -> この靴は古いです\n",
            "/content/drive/MyDrive/talk/wav/common_voice_ja_20836339.wav -> この靴は古いです\n",
            "/content/drive/MyDrive/talk/wav/common_voice_ja_20836335.wav -> 彼女は目を逸らした\n",
            "/content/drive/MyDrive/talk/wav/common_voice_ja_20817635.wav -> どうすれば 漢字を覚えることができますか\n"
          ]
        }
      ],
      "metadata": {
        "colab": {
          "base_uri": "https://localhost:8080/"
        },
        "id": "miRk93BP7RzQ",
        "outputId": "728fbc17-c1c4-422e-87af-9888d7d8d630"
      }
    }
  ]
}